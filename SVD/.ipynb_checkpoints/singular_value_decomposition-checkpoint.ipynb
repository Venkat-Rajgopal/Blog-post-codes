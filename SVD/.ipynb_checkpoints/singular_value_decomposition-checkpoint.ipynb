{
 "cells": [
  {
   "cell_type": "markdown",
   "metadata": {},
   "source": [
    "# Introduction\n",
    "\n",
    "**\"SVD is not nearly as famous as it should be.\" - Gilbert Strang**\n",
    "\n",
    "When we think about dimentionality reduction and in particular matrix decomposition \"Singular Value decomposition\" is what comes to mind. In this post we will dive deeper into its computations and parallely apply in it to a text dataset. \n",
    "\n",
    "\n",
    "The SVD factorizes a matrix into one matrix with orthogonal columns and one with orthogonal rows (along with a diagonal matrix, which contains the relative importance of each factor).\n",
    "\n"
   ]
  },
  {
   "cell_type": "markdown",
   "metadata": {},
   "source": [
    "SVD can be simply written as;\n",
    "\n",
    "\\begin{equation*}\\label{eq:}\n",
    "A_{[m \\times n]} = U_{[m \\times r]} s_{[r \\times r]} (V_{[n \\times r]})\n",
    "\\end{equation*}\n",
    "\n",
    "Lets look at each element of the above matrix decomposition. \n",
    "\n",
    "- *$A$ : Input Data matrix*\n",
    "\n",
    "$[m \\times n]$ : eg. $m$ movies and $n$ users. (See example below)\n",
    "\n",
    "We can think about it as an the input as a Matrix $A$ is of size $m \\times n$, which means it has $m$ rows and $n$ columns. \n",
    "Matrix $A$ can be thought of as a *Document Matrix* with $m$ documents and $n$ terms in it. \n",
    "That means every row reprements a document and every column reprements a word in it. \n",
    "\n",
    "Every document is represented as on long vector with $0$ and $1$ meaning the given word appears or does not appear in the document. We will see this in the below newsgroup dataset. \n",
    "\n",
    "*Alternatively* consider the matrix as a *movie user matrix* such that every row as a different user and every column as a different movie. \n",
    "\n"
   ]
  },
  {
   "cell_type": "markdown",
   "metadata": {},
   "source": [
    "## The Decomposition\n",
    "The idea is to take the matrix $A$ and represent it as product of 3 matrices, $u$, $s$ and $v$. This idea of taking the original matrix and representating it as a product of three different matrices is singular value decomposition. Specifically the matrix has few properties. \n",
    "\n",
    "- *$u$ : Left Singular vectors*.  $[m \\times r]$ ($m$ movies and $r$ concepts) . We can think of $r$ concepts as a very small number. We will come back to this later. \n",
    "\n",
    "- *$s$: Singular values*. $[r \\times r]$ diagonal matrix. It basically represents the strength of the matrix $A$. Here we have only non-zero elements across the diagonal which we call as singular values. The singlular values are sorted in the decreasing order. \n",
    "\n",
    "- *$v$: Right Singular values*. $[n \\times r]$ matrix where $n$ is the number of columns from the original matrix and $r$ we can think of as a small number basically the rank of the matrix $A$. \n",
    "\n",
    "We can pictorically represent this as; \n",
    "<img src=\"matrix_decom.png\" alt=\"\" style=\"width: 40%\"/>"
   ]
  },
  {
   "cell_type": "markdown",
   "metadata": {},
   "source": [
    "# Implementation"
   ]
  },
  {
   "cell_type": "code",
   "execution_count": 1,
   "metadata": {},
   "outputs": [],
   "source": [
    "from sklearn.datasets import fetch_20newsgroups\n",
    "from scipy import linalg\n",
    "import numpy as np"
   ]
  },
  {
   "cell_type": "code",
   "execution_count": 25,
   "metadata": {
    "scrolled": false
   },
   "outputs": [
    {
     "data": {
      "text/plain": [
       "matrix([[1, 1, 1, 0, 0],\n",
       "        [3, 3, 3, 0, 0],\n",
       "        [4, 4, 4, 0, 0],\n",
       "        [5, 5, 5, 0, 0],\n",
       "        [0, 2, 0, 4, 4],\n",
       "        [0, 0, 0, 5, 5],\n",
       "        [0, 1, 0, 2, 2]])"
      ]
     },
     "execution_count": 25,
     "metadata": {},
     "output_type": "execute_result"
    }
   ],
   "source": [
    "a= np.matrix('1 1 1 0 0; 3 3 3 0 0; 4 4 4 0 0 ; 5 5 5 0 0; 0 2 0 4 4; 0 0 0 5 5; 0 1 0 2 2')\n",
    "a"
   ]
  },
  {
   "cell_type": "code",
   "execution_count": 29,
   "metadata": {},
   "outputs": [
    {
     "name": "stdout",
     "output_type": "stream",
     "text": [
      "Shape of original matrix: (7, 5)\n"
     ]
    }
   ],
   "source": [
    "print(\"Shape of original matrix:\" , a.shape)"
   ]
  },
  {
   "cell_type": "code",
   "execution_count": 11,
   "metadata": {},
   "outputs": [],
   "source": [
    "U, s, v = linalg.svd(a, full_matrices=False)"
   ]
  },
  {
   "cell_type": "code",
   "execution_count": 37,
   "metadata": {
    "scrolled": false
   },
   "outputs": [
    {
     "data": {
      "text/plain": [
       "array([[12.48,  0.  ,  0.  ,  0.  ],\n",
       "       [ 0.  ,  9.51,  0.  ,  0.  ],\n",
       "       [ 0.  ,  0.  ,  1.35,  0.  ],\n",
       "       [ 0.  ,  0.  ,  0.  ,  0.  ]])"
      ]
     },
     "execution_count": 37,
     "metadata": {},
     "output_type": "execute_result"
    }
   ],
   "source": [
    "np.round(np.diag(s[:4]), 3)"
   ]
  },
  {
   "cell_type": "code",
   "execution_count": 27,
   "metadata": {},
   "outputs": [
    {
     "data": {
      "text/plain": [
       "((7, 5), (5,), (5, 5))"
      ]
     },
     "execution_count": 27,
     "metadata": {},
     "output_type": "execute_result"
    }
   ],
   "source": [
    "U.shape, s.shape, v.shape"
   ]
  },
  {
   "cell_type": "code",
   "execution_count": 36,
   "metadata": {
    "scrolled": true
   },
   "outputs": [
    {
     "data": {
      "text/plain": [
       "array([[-0.14, -0.02, -0.01,  0.56, -0.38],\n",
       "       [-0.41, -0.07, -0.03,  0.21,  0.76],\n",
       "       [-0.55, -0.09, -0.04, -0.72, -0.18],\n",
       "       [-0.69, -0.12, -0.05,  0.34, -0.23],\n",
       "       [-0.15,  0.59,  0.65,  0.  ,  0.2 ],\n",
       "       [-0.07,  0.73, -0.68,  0.  ,  0.  ],\n",
       "       [-0.08,  0.3 ,  0.33,  0.  , -0.4 ]])"
      ]
     },
     "execution_count": 36,
     "metadata": {},
     "output_type": "execute_result"
    }
   ],
   "source": [
    "np.set_printoptions(precision=2)\n",
    "np.round(U, 3)"
   ]
  },
  {
   "cell_type": "markdown",
   "metadata": {},
   "source": [
    "# News group dataset \n",
    "\n",
    "Newsgroups are discussion groups, which was popular in the 80s and 90s. This dataset includes 18,000 newsgroups posts with 20 different topics.\n",
    "\n",
    "Finding topics which are Orthogonal. \n",
    "\n",
    "Now our idea is that, We would clearly expect that the words that appear most frequently in one topic would appear less frequently in the other - otherwise that word wouldn't make a good choice to separate out the two topics. Therefore, we expect the topics to be orthogonal.\n",
    "\n",
    "The good thing about SVD is that we have a method that allows us to exactly factor a matrix into orthogonal columns and orthogonal rows."
   ]
  }
 ],
 "metadata": {
  "kernelspec": {
   "display_name": "Python 3",
   "language": "python",
   "name": "python3"
  },
  "language_info": {
   "codemirror_mode": {
    "name": "ipython",
    "version": 3
   },
   "file_extension": ".py",
   "mimetype": "text/x-python",
   "name": "python",
   "nbconvert_exporter": "python",
   "pygments_lexer": "ipython3",
   "version": "3.8.2"
  },
  "latex_envs": {
   "LaTeX_envs_menu_present": true,
   "autoclose": true,
   "autocomplete": true,
   "bibliofile": "biblio.bib",
   "cite_by": "apalike",
   "current_citInitial": 1,
   "eqLabelWithNumbers": true,
   "eqNumInitial": 1,
   "hotkeys": {
    "equation": "Ctrl-E",
    "itemize": "Ctrl-I"
   },
   "labels_anchors": false,
   "latex_user_defs": false,
   "report_style_numbering": false,
   "user_envs_cfg": false
  },
  "toc": {
   "base_numbering": 1,
   "nav_menu": {},
   "number_sections": true,
   "sideBar": true,
   "skip_h1_title": false,
   "title_cell": "Table of Contents",
   "title_sidebar": "Contents",
   "toc_cell": false,
   "toc_position": {},
   "toc_section_display": true,
   "toc_window_display": true
  }
 },
 "nbformat": 4,
 "nbformat_minor": 4
}
