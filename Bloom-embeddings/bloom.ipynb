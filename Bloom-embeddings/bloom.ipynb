{
 "cells": [
  {
   "cell_type": "code",
   "execution_count": 1,
   "id": "94c6003c-2fc7-4e5e-af1b-3dff77e6cefa",
   "metadata": {},
   "outputs": [],
   "source": [
    "import numpy as np\n",
    "import numpy.random as random\n",
    "from sklearn.utils import murmurhash3_32 as mmh3\n",
    "from collections import Counter\n",
    "import matplotlib.pyplot as plt"
   ]
  },
  {
   "cell_type": "code",
   "execution_count": 2,
   "id": "e3f100e8-6660-4174-89a1-f5cc2e01aac6",
   "metadata": {},
   "outputs": [],
   "source": [
    "urls = ['google.com', 'https://yahoo.com/', 'https://bloomberg.com/']"
   ]
  },
  {
   "cell_type": "code",
   "execution_count": 3,
   "id": "4a51028c-5a91-471a-aeb3-14641e9d5d57",
   "metadata": {},
   "outputs": [],
   "source": [
    "vocab = ['apple', 'strawberry', 'orange', 'juice', 'drink', 'smoothie',\n",
    "         'eat', 'fruit', 'health', 'wellness', 'steak', 'fries', 'ketchup',\n",
    "         'burger', 'chips', 'lobster', 'caviar', 'service', 'waiter', 'chef']"
   ]
  },
  {
   "cell_type": "code",
   "execution_count": 4,
   "id": "8f531d66-8ae6-4a91-ac48-e68dec8667c2",
   "metadata": {},
   "outputs": [
    {
     "data": {
      "text/plain": [
       "[3, 6, 4, 13, 8, 3, 13, 1, 9, 12, 11, 4, 2, 13, 5, 10, 0, 2, 10, 13]"
      ]
     },
     "execution_count": 4,
     "metadata": {},
     "output_type": "execute_result"
    }
   ],
   "source": [
    "hashes1 = [mmh3(w, 1) % 15 for w in vocab]\n",
    "hashes1"
   ]
  },
  {
   "cell_type": "code",
   "execution_count": 5,
   "id": "19d68991-5b6f-4805-9372-eacd5a3ff19f",
   "metadata": {},
   "outputs": [
    {
     "data": {
      "text/plain": [
       "{'apple': 3,\n",
       " 'strawberry': 6,\n",
       " 'orange': 4,\n",
       " 'juice': 13,\n",
       " 'drink': 8,\n",
       " 'smoothie': 3,\n",
       " 'eat': 13,\n",
       " 'fruit': 1,\n",
       " 'health': 9,\n",
       " 'wellness': 12,\n",
       " 'steak': 11,\n",
       " 'fries': 4,\n",
       " 'ketchup': 2,\n",
       " 'burger': 13,\n",
       " 'chips': 5,\n",
       " 'lobster': 10,\n",
       " 'caviar': 0,\n",
       " 'service': 2,\n",
       " 'waiter': 10,\n",
       " 'chef': 13}"
      ]
     },
     "execution_count": 5,
     "metadata": {},
     "output_type": "execute_result"
    }
   ],
   "source": [
    "# mapped vacabs\n",
    "dict(zip(vocab, hashes1))"
   ]
  },
  {
   "cell_type": "code",
   "execution_count": 6,
   "id": "efedd1fe-915f-42b2-8d4a-d8eee62a3ad1",
   "metadata": {},
   "outputs": [
    {
     "data": {
      "text/plain": [
       "array([[ 0,  1],\n",
       "       [ 1,  1],\n",
       "       [ 2,  2],\n",
       "       [ 3,  2],\n",
       "       [ 4,  2],\n",
       "       [ 5,  1],\n",
       "       [ 6,  1],\n",
       "       [ 8,  1],\n",
       "       [ 9,  1],\n",
       "       [10,  2],\n",
       "       [11,  1],\n",
       "       [12,  1],\n",
       "       [13,  4]])"
      ]
     },
     "execution_count": 6,
     "metadata": {},
     "output_type": "execute_result"
    }
   ],
   "source": [
    "# some shared keys. \n",
    "# Key 13 is shared 4 times , while 7 is unassigned. \n",
    "unique, counts = np.unique(hashes1, return_counts=True)\n",
    "np.asarray((unique, counts)).T\n",
    "\n",
    "# So if multiple words have same keys they will map to the same vector, i.e the model will not recognise  "
   ]
  },
  {
   "cell_type": "code",
   "execution_count": 7,
   "id": "896c411d-80a7-4393-9465-1ed6338931e2",
   "metadata": {},
   "outputs": [
    {
     "data": {
      "text/plain": [
       "12"
      ]
     },
     "execution_count": 7,
     "metadata": {},
     "output_type": "execute_result"
    }
   ],
   "source": [
    "# Hash the words again with a different seed. \n",
    "hashes2 = [mmh3(w, 2) % 15 for w in vocab]\n",
    "\n",
    "# here 3 are unassigned \n",
    "len(set(hashes2))\n",
    "# Counter(hashes2)"
   ]
  },
  {
   "cell_type": "code",
   "execution_count": 22,
   "id": "449bdb68-6467-4013-bfbf-f0124fbe44a6",
   "metadata": {
    "tags": []
   },
   "outputs": [],
   "source": [
    "random.seed(0)\n",
    "\n",
    "nb_epoch = 10\n",
    "learn_rate = 0.1\n",
    "nr_hash_vector = 15\n",
    "\n",
    "words = [str(i) for i in range(20)]\n",
    "true_vectors = np.random.uniform(-0.1, 0.1, (len(words), 2))\n",
    "hash_vectors = np.random.uniform(-0.1, 0.1, (nr_hash_vector, 2))\n",
    "examples = list(zip(words, true_vectors))\n",
    "\n",
    "losses = []\n",
    "for epoch in range(nb_epoch):\n",
    "    random.shuffle(examples)\n",
    "    loss=0.\n",
    "    for word, truth in examples:\n",
    "        key1 = mmh3(word, 1) % nr_hash_vector\n",
    "        key2 = mmh3(word, 2) % nr_hash_vector\n",
    "\n",
    "        hash_vector = hash_vectors[key1] + hash_vectors[key2]\n",
    "\n",
    "        diff = hash_vector - truth\n",
    "\n",
    "        hash_vectors[key1] -= learn_rate * diff\n",
    "        hash_vectors[key2] -= learn_rate * diff\n",
    "        loss += (diff**2).sum()\n",
    "        losses.append(loss)"
   ]
  },
  {
   "cell_type": "code",
   "execution_count": 23,
   "id": "ec4d2e05-113f-4627-9ce5-dc29b2d0780d",
   "metadata": {},
   "outputs": [
    {
     "data": {
      "text/plain": [
       "[<matplotlib.lines.Line2D at 0x7fc4d2b87700>]"
      ]
     },
     "execution_count": 23,
     "metadata": {},
     "output_type": "execute_result"
    },
    {
     "data": {
      "image/png": "[encoded data removed]",
      "text/plain": [
       "<Figure size 432x288 with 1 Axes>"
      ]
     },
     "metadata": {
      "needs_background": "light"
     },
     "output_type": "display_data"
    }
   ],
   "source": [
    "plt.plot(losses)"
   ]
  }
 ],
 "metadata": {
  "kernelspec": {
   "display_name": "Python 3 (ipykernel)",
   "language": "python",
   "name": "python3"
  },
  "language_info": {
   "codemirror_mode": {
    "name": "ipython",
    "version": 3
   },
   "file_extension": ".py",
   "mimetype": "text/x-python",
   "name": "python",
   "nbconvert_exporter": "python",
   "pygments_lexer": "ipython3",
   "version": "3.8.10"
  }
 },
 "nbformat": 4,
 "nbformat_minor": 5
}
